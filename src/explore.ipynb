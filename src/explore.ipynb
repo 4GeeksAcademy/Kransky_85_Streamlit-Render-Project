{
    "cells": [
        {
            "cell_type": "markdown",
            "metadata": {},
            "source": [
                "# Explore here"
            ]
        },
        {
            "cell_type": "code",
            "execution_count": 1,
            "metadata": {},
            "outputs": [],
            "source": [
                "import pandas as pd\n",
                "\n",
                "total_data = pd.read_csv(\"\")\n",
                "total_data"
            ]
        },
        {
            "cell_type": "code",
            "execution_count": null,
            "metadata": {},
            "outputs": [],
            "source": [
                "total_data.info()"
            ]
        },
        {
            "cell_type": "code",
            "execution_count": null,
            "metadata": {},
            "outputs": [],
            "source": [
                "total_data.shape"
            ]
        },
        {
            "cell_type": "code",
            "execution_count": null,
            "metadata": {},
            "outputs": [],
            "source": [
                "total_data.columns"
            ]
        },
        {
            "cell_type": "code",
            "execution_count": null,
            "metadata": {},
            "outputs": [],
            "source": [
                "\n",
                "print(\"Total missing values for each column:\")\n",
                "print(total_data.isnull().sum(axis=0))"
            ]
        },
        {
            "cell_type": "code",
            "execution_count": null,
            "metadata": {},
            "outputs": [],
            "source": [
                "\n",
                "print(f\"Dimensions before dropping duplicates: {total_data.shape}\")\n",
                "\n",
                "total_data = total_data.drop_duplicates()\n",
                "\n",
                "print(f\"Dimensions after dropping duplicates: {total_data.shape}\")"
            ]
        },
        {
            "cell_type": "code",
            "execution_count": null,
            "metadata": {},
            "outputs": [],
            "source": [
                "columns_to_remove = [\"id\", \"name\", \"host_id\", \"host_name\", \"last_review\", \"latitude\", \"longitude\"]\n",
                "\n",
                "for column in columns_to_remove:\n",
                "    try:\n",
                "        total_data = total_data.drop(column, axis=1)\n",
                "    except:\n",
                "        print(f\"Column {column} was already removed.\")\n",
                "\n",
                "total_data.head(5)"
            ]
        },
        {
            "cell_type": "code",
            "execution_count": null,
            "metadata": {},
            "outputs": [],
            "source": [
                "total_data[''] = pd.factorize(total_data[''])[0]\n",
                "total_data[''] = pd.factorize(total_data[''])[0]\n",
                "total_data[''] = pd.factorize(total_data[''])[0]\n",
                "\n",
                "total_data.head()"
            ]
        },
        {
            "cell_type": "code",
            "execution_count": null,
            "metadata": {},
            "outputs": [],
            "source": []
        },
        {
            "cell_type": "code",
            "execution_count": null,
            "metadata": {},
            "outputs": [],
            "source": [
                "X = total_data[['']]\n",
                "\n",
                "y = total_data[''] "
            ]
        },
        {
            "cell_type": "code",
            "execution_count": null,
            "metadata": {},
            "outputs": [],
            "source": [
                "from sklearn.model_selection import train_test_split\n",
                "\n",
                "X_train, X_test, y_train, y_test = train_test_split(X, y, test_size = 0.2)"
            ]
        },
        {
            "cell_type": "code",
            "execution_count": null,
            "metadata": {},
            "outputs": [],
            "source": [
                "X_train"
            ]
        },
        {
            "cell_type": "code",
            "execution_count": null,
            "metadata": {},
            "outputs": [],
            "source": [
                "y_train"
            ]
        },
        {
            "cell_type": "code",
            "execution_count": null,
            "metadata": {},
            "outputs": [],
            "source": []
        },
        {
            "cell_type": "markdown",
            "metadata": {},
            "source": [
                "📝 Instructions\n",
                "\n",
                "Step 1: Train a new model or choose the one from the previous project.\n",
                "\n",
                "In the Deployment with Flask module we search for a dataset and train a model that we later use in a web application developed in Flask and deploy in Render. In this project you can use the same model and change only the web application, or find another dataset and train a new model.\n",
                "\n",
                "Step 2: Develop a web application using Streamlit\n",
                "\n",
                "With the knowledge acquired in this module, develop an interface to be able to use the model. Style it as you see fit and note any external resources you have used for development.\n",
                "\n",
                "Step 3: Integrate the model and the application in Render\n",
                "\n",
                "Create a free service in Render and integrate the work you have done to be able to deploy the web application online. Don't forget to include the link to the service in your repository."
            ]
        }
    ],
    "metadata": {
        "kernelspec": {
            "display_name": "Python 3.8.13 64-bit ('3.8.13')",
            "language": "python",
            "name": "python3"
        },
        "language_info": {
            "codemirror_mode": {
                "name": "ipython",
                "version": 3
            },
            "file_extension": ".py",
            "mimetype": "text/x-python",
            "name": "python",
            "nbconvert_exporter": "python",
            "pygments_lexer": "ipython3",
            "version": "3.10.12"
        },
        "orig_nbformat": 4,
        "vscode": {
            "interpreter": {
                "hash": "110cc1dee26208153f2972f08a2ad52b6a56238dc66d48e87fb757ef2996db56"
            }
        }
    },
    "nbformat": 4,
    "nbformat_minor": 2
}
