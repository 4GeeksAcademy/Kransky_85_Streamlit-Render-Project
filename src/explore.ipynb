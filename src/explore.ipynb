{
    "cells": [
        {
            "cell_type": "markdown",
            "metadata": {},
            "source": [
                "# Explore here"
            ]
        },
        {
            "cell_type": "code",
            "execution_count": 1,
            "metadata": {},
            "outputs": [
                {
                    "data": {
                        "text/html": [
                            "<div>\n",
                            "<style scoped>\n",
                            "    .dataframe tbody tr th:only-of-type {\n",
                            "        vertical-align: middle;\n",
                            "    }\n",
                            "\n",
                            "    .dataframe tbody tr th {\n",
                            "        vertical-align: top;\n",
                            "    }\n",
                            "\n",
                            "    .dataframe thead th {\n",
                            "        text-align: right;\n",
                            "    }\n",
                            "</style>\n",
                            "<table border=\"1\" class=\"dataframe\">\n",
                            "  <thead>\n",
                            "    <tr style=\"text-align: right;\">\n",
                            "      <th></th>\n",
                            "      <th>title</th>\n",
                            "      <th>text</th>\n",
                            "      <th>subject</th>\n",
                            "      <th>date</th>\n",
                            "    </tr>\n",
                            "  </thead>\n",
                            "  <tbody>\n",
                            "    <tr>\n",
                            "      <th>0</th>\n",
                            "      <td>Donald Trump Sends Out Embarrassing New Year’...</td>\n",
                            "      <td>Donald Trump just couldn t wish all Americans ...</td>\n",
                            "      <td>News</td>\n",
                            "      <td>December 31, 2017</td>\n",
                            "    </tr>\n",
                            "    <tr>\n",
                            "      <th>1</th>\n",
                            "      <td>Drunk Bragging Trump Staffer Started Russian ...</td>\n",
                            "      <td>House Intelligence Committee Chairman Devin Nu...</td>\n",
                            "      <td>News</td>\n",
                            "      <td>December 31, 2017</td>\n",
                            "    </tr>\n",
                            "    <tr>\n",
                            "      <th>2</th>\n",
                            "      <td>Sheriff David Clarke Becomes An Internet Joke...</td>\n",
                            "      <td>On Friday, it was revealed that former Milwauk...</td>\n",
                            "      <td>News</td>\n",
                            "      <td>December 30, 2017</td>\n",
                            "    </tr>\n",
                            "    <tr>\n",
                            "      <th>3</th>\n",
                            "      <td>Trump Is So Obsessed He Even Has Obama’s Name...</td>\n",
                            "      <td>On Christmas day, Donald Trump announced that ...</td>\n",
                            "      <td>News</td>\n",
                            "      <td>December 29, 2017</td>\n",
                            "    </tr>\n",
                            "    <tr>\n",
                            "      <th>4</th>\n",
                            "      <td>Pope Francis Just Called Out Donald Trump Dur...</td>\n",
                            "      <td>Pope Francis used his annual Christmas Day mes...</td>\n",
                            "      <td>News</td>\n",
                            "      <td>December 25, 2017</td>\n",
                            "    </tr>\n",
                            "    <tr>\n",
                            "      <th>...</th>\n",
                            "      <td>...</td>\n",
                            "      <td>...</td>\n",
                            "      <td>...</td>\n",
                            "      <td>...</td>\n",
                            "    </tr>\n",
                            "    <tr>\n",
                            "      <th>23476</th>\n",
                            "      <td>McPain: John McCain Furious That Iran Treated ...</td>\n",
                            "      <td>21st Century Wire says As 21WIRE reported earl...</td>\n",
                            "      <td>Middle-east</td>\n",
                            "      <td>January 16, 2016</td>\n",
                            "    </tr>\n",
                            "    <tr>\n",
                            "      <th>23477</th>\n",
                            "      <td>JUSTICE? Yahoo Settles E-mail Privacy Class-ac...</td>\n",
                            "      <td>21st Century Wire says It s a familiar theme. ...</td>\n",
                            "      <td>Middle-east</td>\n",
                            "      <td>January 16, 2016</td>\n",
                            "    </tr>\n",
                            "    <tr>\n",
                            "      <th>23478</th>\n",
                            "      <td>Sunnistan: US and Allied ‘Safe Zone’ Plan to T...</td>\n",
                            "      <td>Patrick Henningsen  21st Century WireRemember ...</td>\n",
                            "      <td>Middle-east</td>\n",
                            "      <td>January 15, 2016</td>\n",
                            "    </tr>\n",
                            "    <tr>\n",
                            "      <th>23479</th>\n",
                            "      <td>How to Blow $700 Million: Al Jazeera America F...</td>\n",
                            "      <td>21st Century Wire says Al Jazeera America will...</td>\n",
                            "      <td>Middle-east</td>\n",
                            "      <td>January 14, 2016</td>\n",
                            "    </tr>\n",
                            "    <tr>\n",
                            "      <th>23480</th>\n",
                            "      <td>10 U.S. Navy Sailors Held by Iranian Military ...</td>\n",
                            "      <td>21st Century Wire says As 21WIRE predicted in ...</td>\n",
                            "      <td>Middle-east</td>\n",
                            "      <td>January 12, 2016</td>\n",
                            "    </tr>\n",
                            "  </tbody>\n",
                            "</table>\n",
                            "<p>23481 rows × 4 columns</p>\n",
                            "</div>"
                        ],
                        "text/plain": [
                            "                                                   title  \\\n",
                            "0       Donald Trump Sends Out Embarrassing New Year’...   \n",
                            "1       Drunk Bragging Trump Staffer Started Russian ...   \n",
                            "2       Sheriff David Clarke Becomes An Internet Joke...   \n",
                            "3       Trump Is So Obsessed He Even Has Obama’s Name...   \n",
                            "4       Pope Francis Just Called Out Donald Trump Dur...   \n",
                            "...                                                  ...   \n",
                            "23476  McPain: John McCain Furious That Iran Treated ...   \n",
                            "23477  JUSTICE? Yahoo Settles E-mail Privacy Class-ac...   \n",
                            "23478  Sunnistan: US and Allied ‘Safe Zone’ Plan to T...   \n",
                            "23479  How to Blow $700 Million: Al Jazeera America F...   \n",
                            "23480  10 U.S. Navy Sailors Held by Iranian Military ...   \n",
                            "\n",
                            "                                                    text      subject  \\\n",
                            "0      Donald Trump just couldn t wish all Americans ...         News   \n",
                            "1      House Intelligence Committee Chairman Devin Nu...         News   \n",
                            "2      On Friday, it was revealed that former Milwauk...         News   \n",
                            "3      On Christmas day, Donald Trump announced that ...         News   \n",
                            "4      Pope Francis used his annual Christmas Day mes...         News   \n",
                            "...                                                  ...          ...   \n",
                            "23476  21st Century Wire says As 21WIRE reported earl...  Middle-east   \n",
                            "23477  21st Century Wire says It s a familiar theme. ...  Middle-east   \n",
                            "23478  Patrick Henningsen  21st Century WireRemember ...  Middle-east   \n",
                            "23479  21st Century Wire says Al Jazeera America will...  Middle-east   \n",
                            "23480  21st Century Wire says As 21WIRE predicted in ...  Middle-east   \n",
                            "\n",
                            "                    date  \n",
                            "0      December 31, 2017  \n",
                            "1      December 31, 2017  \n",
                            "2      December 30, 2017  \n",
                            "3      December 29, 2017  \n",
                            "4      December 25, 2017  \n",
                            "...                  ...  \n",
                            "23476   January 16, 2016  \n",
                            "23477   January 16, 2016  \n",
                            "23478   January 15, 2016  \n",
                            "23479   January 14, 2016  \n",
                            "23480   January 12, 2016  \n",
                            "\n",
                            "[23481 rows x 4 columns]"
                        ]
                    },
                    "execution_count": 1,
                    "metadata": {},
                    "output_type": "execute_result"
                }
            ],
            "source": [
                "import pandas as pd\n",
                "\n",
                "total_data = pd.read_csv(\"../data/raw/fake.csv\")\n",
                "total_data"
            ]
        },
        {
            "cell_type": "code",
            "execution_count": 2,
            "metadata": {},
            "outputs": [
                {
                    "name": "stdout",
                    "output_type": "stream",
                    "text": [
                        "<class 'pandas.core.frame.DataFrame'>\n",
                        "RangeIndex: 23481 entries, 0 to 23480\n",
                        "Data columns (total 4 columns):\n",
                        " #   Column   Non-Null Count  Dtype \n",
                        "---  ------   --------------  ----- \n",
                        " 0   title    23481 non-null  object\n",
                        " 1   text     23481 non-null  object\n",
                        " 2   subject  23481 non-null  object\n",
                        " 3   date     23481 non-null  object\n",
                        "dtypes: object(4)\n",
                        "memory usage: 733.9+ KB\n"
                    ]
                }
            ],
            "source": [
                "total_data.info()"
            ]
        },
        {
            "cell_type": "code",
            "execution_count": 3,
            "metadata": {},
            "outputs": [
                {
                    "data": {
                        "text/plain": [
                            "(23481, 4)"
                        ]
                    },
                    "execution_count": 3,
                    "metadata": {},
                    "output_type": "execute_result"
                }
            ],
            "source": [
                "total_data.shape"
            ]
        },
        {
            "cell_type": "code",
            "execution_count": 4,
            "metadata": {},
            "outputs": [
                {
                    "data": {
                        "text/plain": [
                            "Index(['title', 'text', 'subject', 'date'], dtype='object')"
                        ]
                    },
                    "execution_count": 4,
                    "metadata": {},
                    "output_type": "execute_result"
                }
            ],
            "source": [
                "total_data.columns"
            ]
        },
        {
            "cell_type": "code",
            "execution_count": 5,
            "metadata": {},
            "outputs": [
                {
                    "name": "stdout",
                    "output_type": "stream",
                    "text": [
                        "Total missing values for each column:\n",
                        "title      0\n",
                        "text       0\n",
                        "subject    0\n",
                        "date       0\n",
                        "dtype: int64\n"
                    ]
                }
            ],
            "source": [
                "\n",
                "print(\"Total missing values for each column:\")\n",
                "print(total_data.isnull().sum(axis=0))"
            ]
        },
        {
            "cell_type": "code",
            "execution_count": 6,
            "metadata": {},
            "outputs": [
                {
                    "name": "stdout",
                    "output_type": "stream",
                    "text": [
                        "Dimensions before dropping duplicates: (23481, 4)\n",
                        "Dimensions after dropping duplicates: (23478, 4)\n"
                    ]
                }
            ],
            "source": [
                "\n",
                "print(f\"Dimensions before dropping duplicates: {total_data.shape}\")\n",
                "\n",
                "total_data = total_data.drop_duplicates()\n",
                "\n",
                "print(f\"Dimensions after dropping duplicates: {total_data.shape}\")"
            ]
        },
        {
            "cell_type": "code",
            "execution_count": 7,
            "metadata": {},
            "outputs": [],
            "source": [
                "# columns_to_remove = [\"\"]\n",
                "\n",
                "# for column in columns_to_remove:\n",
                "#     try:\n",
                "#         total_data = total_data.drop(column, axis=1)\n",
                "#     except:\n",
                "#         print(f\"Column {column} was already removed.\")\n",
                "\n",
                "# total_data.head(5)"
            ]
        },
        {
            "cell_type": "code",
            "execution_count": 8,
            "metadata": {},
            "outputs": [],
            "source": [
                "# total_data[''] = pd.factorize(total_data[''])[0]\n",
                "# total_data[''] = pd.factorize(total_data[''])[0]\n",
                "# total_data[''] = pd.factorize(total_data[''])[0]\n",
                "\n",
                "# total_data.head()"
            ]
        },
        {
            "cell_type": "code",
            "execution_count": null,
            "metadata": {},
            "outputs": [],
            "source": []
        },
        {
            "cell_type": "code",
            "execution_count": 9,
            "metadata": {},
            "outputs": [
                {
                    "ename": "KeyError",
                    "evalue": "\"None of [Index([''], dtype='object')] are in the [columns]\"",
                    "output_type": "error",
                    "traceback": [
                        "\u001b[0;31m---------------------------------------------------------------------------\u001b[0m",
                        "\u001b[0;31mKeyError\u001b[0m                                  Traceback (most recent call last)",
                        "Cell \u001b[0;32mIn[9], line 1\u001b[0m\n\u001b[0;32m----> 1\u001b[0m X \u001b[38;5;241m=\u001b[39m \u001b[43mtotal_data\u001b[49m\u001b[43m[\u001b[49m\u001b[43m[\u001b[49m\u001b[38;5;124;43m'\u001b[39;49m\u001b[38;5;124;43m'\u001b[39;49m\u001b[43m]\u001b[49m\u001b[43m]\u001b[49m\n\u001b[1;32m      3\u001b[0m y \u001b[38;5;241m=\u001b[39m total_data[\u001b[38;5;124m'\u001b[39m\u001b[38;5;124m'\u001b[39m] \n",
                        "File \u001b[0;32m~/.local/lib/python3.10/site-packages/pandas/core/frame.py:4108\u001b[0m, in \u001b[0;36mDataFrame.__getitem__\u001b[0;34m(self, key)\u001b[0m\n\u001b[1;32m   4106\u001b[0m     \u001b[38;5;28;01mif\u001b[39;00m is_iterator(key):\n\u001b[1;32m   4107\u001b[0m         key \u001b[38;5;241m=\u001b[39m \u001b[38;5;28mlist\u001b[39m(key)\n\u001b[0;32m-> 4108\u001b[0m     indexer \u001b[38;5;241m=\u001b[39m \u001b[38;5;28;43mself\u001b[39;49m\u001b[38;5;241;43m.\u001b[39;49m\u001b[43mcolumns\u001b[49m\u001b[38;5;241;43m.\u001b[39;49m\u001b[43m_get_indexer_strict\u001b[49m\u001b[43m(\u001b[49m\u001b[43mkey\u001b[49m\u001b[43m,\u001b[49m\u001b[43m \u001b[49m\u001b[38;5;124;43m\"\u001b[39;49m\u001b[38;5;124;43mcolumns\u001b[39;49m\u001b[38;5;124;43m\"\u001b[39;49m\u001b[43m)\u001b[49m[\u001b[38;5;241m1\u001b[39m]\n\u001b[1;32m   4110\u001b[0m \u001b[38;5;66;03m# take() does not accept boolean indexers\u001b[39;00m\n\u001b[1;32m   4111\u001b[0m \u001b[38;5;28;01mif\u001b[39;00m \u001b[38;5;28mgetattr\u001b[39m(indexer, \u001b[38;5;124m\"\u001b[39m\u001b[38;5;124mdtype\u001b[39m\u001b[38;5;124m\"\u001b[39m, \u001b[38;5;28;01mNone\u001b[39;00m) \u001b[38;5;241m==\u001b[39m \u001b[38;5;28mbool\u001b[39m:\n",
                        "File \u001b[0;32m~/.local/lib/python3.10/site-packages/pandas/core/indexes/base.py:6200\u001b[0m, in \u001b[0;36mIndex._get_indexer_strict\u001b[0;34m(self, key, axis_name)\u001b[0m\n\u001b[1;32m   6197\u001b[0m \u001b[38;5;28;01melse\u001b[39;00m:\n\u001b[1;32m   6198\u001b[0m     keyarr, indexer, new_indexer \u001b[38;5;241m=\u001b[39m \u001b[38;5;28mself\u001b[39m\u001b[38;5;241m.\u001b[39m_reindex_non_unique(keyarr)\n\u001b[0;32m-> 6200\u001b[0m \u001b[38;5;28;43mself\u001b[39;49m\u001b[38;5;241;43m.\u001b[39;49m\u001b[43m_raise_if_missing\u001b[49m\u001b[43m(\u001b[49m\u001b[43mkeyarr\u001b[49m\u001b[43m,\u001b[49m\u001b[43m \u001b[49m\u001b[43mindexer\u001b[49m\u001b[43m,\u001b[49m\u001b[43m \u001b[49m\u001b[43maxis_name\u001b[49m\u001b[43m)\u001b[49m\n\u001b[1;32m   6202\u001b[0m keyarr \u001b[38;5;241m=\u001b[39m \u001b[38;5;28mself\u001b[39m\u001b[38;5;241m.\u001b[39mtake(indexer)\n\u001b[1;32m   6203\u001b[0m \u001b[38;5;28;01mif\u001b[39;00m \u001b[38;5;28misinstance\u001b[39m(key, Index):\n\u001b[1;32m   6204\u001b[0m     \u001b[38;5;66;03m# GH 42790 - Preserve name from an Index\u001b[39;00m\n",
                        "File \u001b[0;32m~/.local/lib/python3.10/site-packages/pandas/core/indexes/base.py:6249\u001b[0m, in \u001b[0;36mIndex._raise_if_missing\u001b[0;34m(self, key, indexer, axis_name)\u001b[0m\n\u001b[1;32m   6247\u001b[0m \u001b[38;5;28;01mif\u001b[39;00m nmissing:\n\u001b[1;32m   6248\u001b[0m     \u001b[38;5;28;01mif\u001b[39;00m nmissing \u001b[38;5;241m==\u001b[39m \u001b[38;5;28mlen\u001b[39m(indexer):\n\u001b[0;32m-> 6249\u001b[0m         \u001b[38;5;28;01mraise\u001b[39;00m \u001b[38;5;167;01mKeyError\u001b[39;00m(\u001b[38;5;124mf\u001b[39m\u001b[38;5;124m\"\u001b[39m\u001b[38;5;124mNone of [\u001b[39m\u001b[38;5;132;01m{\u001b[39;00mkey\u001b[38;5;132;01m}\u001b[39;00m\u001b[38;5;124m] are in the [\u001b[39m\u001b[38;5;132;01m{\u001b[39;00maxis_name\u001b[38;5;132;01m}\u001b[39;00m\u001b[38;5;124m]\u001b[39m\u001b[38;5;124m\"\u001b[39m)\n\u001b[1;32m   6251\u001b[0m     not_found \u001b[38;5;241m=\u001b[39m \u001b[38;5;28mlist\u001b[39m(ensure_index(key)[missing_mask\u001b[38;5;241m.\u001b[39mnonzero()[\u001b[38;5;241m0\u001b[39m]]\u001b[38;5;241m.\u001b[39munique())\n\u001b[1;32m   6252\u001b[0m     \u001b[38;5;28;01mraise\u001b[39;00m \u001b[38;5;167;01mKeyError\u001b[39;00m(\u001b[38;5;124mf\u001b[39m\u001b[38;5;124m\"\u001b[39m\u001b[38;5;132;01m{\u001b[39;00mnot_found\u001b[38;5;132;01m}\u001b[39;00m\u001b[38;5;124m not in index\u001b[39m\u001b[38;5;124m\"\u001b[39m)\n",
                        "\u001b[0;31mKeyError\u001b[0m: \"None of [Index([''], dtype='object')] are in the [columns]\""
                    ]
                }
            ],
            "source": [
                "X = total_data[['']]\n",
                "\n",
                "y = total_data[''] "
            ]
        },
        {
            "cell_type": "code",
            "execution_count": null,
            "metadata": {},
            "outputs": [],
            "source": [
                "from sklearn.model_selection import train_test_split\n",
                "\n",
                "X_train, X_test, y_train, y_test = train_test_split(X, y, test_size = 0.2)"
            ]
        },
        {
            "cell_type": "code",
            "execution_count": null,
            "metadata": {},
            "outputs": [],
            "source": [
                "X_train"
            ]
        },
        {
            "cell_type": "code",
            "execution_count": null,
            "metadata": {},
            "outputs": [],
            "source": [
                "y_train"
            ]
        },
        {
            "cell_type": "code",
            "execution_count": null,
            "metadata": {},
            "outputs": [],
            "source": []
        },
        {
            "cell_type": "markdown",
            "metadata": {},
            "source": [
                "📝 Instructions\n",
                "\n",
                "Step 1: Train a new model or choose the one from the previous project.\n",
                "\n",
                "In the Deployment with Flask module we search for a dataset and train a model that we later use in a web application developed in Flask and deploy in Render. In this project you can use the same model and change only the web application, or find another dataset and train a new model.\n",
                "\n",
                "Step 2: Develop a web application using Streamlit\n",
                "\n",
                "With the knowledge acquired in this module, develop an interface to be able to use the model. Style it as you see fit and note any external resources you have used for development.\n",
                "\n",
                "Step 3: Integrate the model and the application in Render\n",
                "\n",
                "Create a free service in Render and integrate the work you have done to be able to deploy the web application online. Don't forget to include the link to the service in your repository."
            ]
        }
    ],
    "metadata": {
        "kernelspec": {
            "display_name": "Python 3.8.13 64-bit ('3.8.13')",
            "language": "python",
            "name": "python3"
        },
        "language_info": {
            "codemirror_mode": {
                "name": "ipython",
                "version": 3
            },
            "file_extension": ".py",
            "mimetype": "text/x-python",
            "name": "python",
            "nbconvert_exporter": "python",
            "pygments_lexer": "ipython3",
            "version": "3.10.12"
        },
        "orig_nbformat": 4,
        "vscode": {
            "interpreter": {
                "hash": "110cc1dee26208153f2972f08a2ad52b6a56238dc66d48e87fb757ef2996db56"
            }
        }
    },
    "nbformat": 4,
    "nbformat_minor": 2
}
